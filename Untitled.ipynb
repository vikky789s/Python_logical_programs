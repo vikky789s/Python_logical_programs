{
 "cells": [
  {
   "cell_type": "markdown",
   "metadata": {},
   "source": [
    "### palindrome"
   ]
  },
  {
   "cell_type": "code",
   "execution_count": null,
   "metadata": {},
   "outputs": [],
   "source": [
    "# objectives\n",
    "# 1. remove all the alphabets and special characters (excluding '-' if it occurs only at the bigning ) \n",
    "#  in a string and read it into a new variable\n",
    "# 2. reverse the string and compare\n",
    "# 3. if reversed string  == string-->palindrome\n",
    "# 4. else -1"
   ]
  },
  {
   "cell_type": "code",
   "execution_count": 140,
   "metadata": {},
   "outputs": [],
   "source": [
    "import re\n",
    "def palindrome (string) :\n",
    "    if string[0] == '-' :\n",
    "        print('-1')\n",
    "    else :\n",
    "        string1 = re.sub('[^0-9-]+', '', string)\n",
    "        #print(string1)\n",
    "        if string1 == string1[::-1] :\n",
    "            print (string1)\n",
    "        else :\n",
    "            print ('-1')"
   ]
  },
  {
   "cell_type": "code",
   "execution_count": 141,
   "metadata": {},
   "outputs": [
    {
     "name": "stdout",
     "output_type": "stream",
     "text": [
      "35453\n"
     ]
    }
   ],
   "source": [
    "palindrome('co?3d5er45,3')"
   ]
  },
  {
   "cell_type": "code",
   "execution_count": 142,
   "metadata": {},
   "outputs": [
    {
     "name": "stdout",
     "output_type": "stream",
     "text": [
      "-1\n"
     ]
    }
   ],
   "source": [
    "palindrome('-g4e3e5k3s4')"
   ]
  },
  {
   "cell_type": "code",
   "execution_count": 143,
   "metadata": {},
   "outputs": [
    {
     "name": "stdout",
     "output_type": "stream",
     "text": [
      "-1\n"
     ]
    }
   ],
   "source": [
    "palindrome(\"nu23m-2\")"
   ]
  },
  {
   "cell_type": "code",
   "execution_count": null,
   "metadata": {},
   "outputs": [],
   "source": [
    "# anagrams\n",
    "#1. read file content\n",
    "#2. seperate each word \n",
    "#3. get len(words)> =4 into a list\n",
    "#4. then compare first word with all other words\n",
    "# then 2nd word to remaing and so on. to check anagram words\n",
    "# print unique anagram words "
   ]
  },
  {
   "cell_type": "code",
   "execution_count": 139,
   "metadata": {},
   "outputs": [],
   "source": [
    "file = open('sample1.txt','r')\n",
    "file_content = file.readlines()\n",
    "#str(file_content).split(' ')\n",
    "#file_content"
   ]
  },
  {
   "cell_type": "code",
   "execution_count": 263,
   "metadata": {},
   "outputs": [
    {
     "name": "stdout",
     "output_type": "stream",
     "text": [
      "['John is at a post, where they make pots. Making the pots will', 'stop in the future. Oh dear, what will happen to them when it', 'happens. This can happen only in Rome. Read on to find more.']\n",
      "****************************************\n",
      "['John', 'is', 'at', 'a', 'post,', 'where', 'they', 'make', 'pots.', 'Making', 'the', 'pots', 'will', 'stop', 'in', 'the', 'future.', 'Oh', 'dear,', 'what', 'will', 'happen', 'to', 'them', 'when', 'it', 'happens.', 'This', 'can', 'happen', 'only', 'in', 'Rome.', 'Read', 'on', 'to', 'find', 'more.']\n",
      "****************************************\n",
      "['John', 'post', 'where', 'they', 'make', 'pots', 'Making', 'pots', 'will', 'stop', 'future', 'dear', 'what', 'will', 'happen', 'them', 'when', 'happens', 'This', 'happen', 'only', 'Rome', 'Read', 'find', 'more']\n",
      "****************************************\n",
      "post pots\n",
      "post pots\n",
      "post stop\n",
      "pots stop\n",
      "pots stop\n",
      "dear Read\n",
      "Rome more\n",
      "****************************************\n",
      "['post', 'post', 'post', 'pots', 'pots', 'dear', 'Rome']\n",
      "['pots', 'pots', 'stop', 'stop', 'stop', 'Read', 'more']\n",
      "****************************************\n",
      "{'post': 0, 'pots': 0, 'dear': 0, 'Rome': 0}\n",
      "****************************************\n",
      "{'pots': 0, 'stop': 0, 'Read': 0, 'more': 0}\n",
      "****************************************\n",
      "{'post': 0, 'pots': 0, 'dear': 0, 'Rome': 0, 'stop': 0, 'Read': 0, 'more': 0}\n",
      "****************************************\n",
      "['post', 'pots', 'dear', 'Rome', 'stop', 'Read', 'more']\n",
      "****************************************\n",
      "post,pots,dear,Rome,stop,Read,more,"
     ]
    }
   ],
   "source": [
    "import csv\n",
    "import re\n",
    "import itertools\n",
    "\n",
    "with open ('sample1.txt', 'r') as f:\n",
    "    file = [data[0] for data in csv.reader(f,delimiter='\\t')]\n",
    "print(file)\n",
    "\n",
    "print ('*'*40)\n",
    "file_content = []\n",
    "for el in file :\n",
    "    file_content = file_content + el.split(' ')\n",
    "print(file_content) \n",
    "print ('*'*40)\n",
    "\n",
    "all_words = []\n",
    "for fc in file_content:\n",
    "    fc = re.sub('[^a-zA-Z]+','',fc)\n",
    "    if len(fc) >= 4 :\n",
    "        all_words.append(fc)\n",
    "\n",
    "print(all_words)        \n",
    "print ('*'*40)\n",
    "\n",
    "ke = []\n",
    "v = []\n",
    "for a,b in itertools.combinations(all_words, 2):\n",
    "    if a.lower() != b.lower() and sorted(a.lower()) == sorted(b.lower()) :\n",
    "        print(a,b)\n",
    "        #print ('*'*40)\n",
    "        ke.append(a)\n",
    "        v.append(b)\n",
    "print ('*'*40)        \n",
    "print(ke)\n",
    "print(v)\n",
    "\n",
    "print ('*'*40)\n",
    "\n",
    "my_dict1 = {k: 0 for k in ke}\n",
    "print(my_dict)       \n",
    "        \n",
    "print ('*'*40)\n",
    "\n",
    "my_dict2 = {k: 0 for k in v}\n",
    "print(my_dict2)\n",
    "\n",
    "print ('*'*40)\n",
    "\n",
    "my_dict1.update(my_dict2)\n",
    "\n",
    "print(my_dict1)\n",
    "print ('*'*40)\n",
    "\n",
    "output = list(my_dict1.keys())\n",
    "print(output)\n",
    "print ('*'*40)\n",
    "\n",
    "for  i in output:\n",
    "    print(i, end = ',')"
   ]
  },
  {
   "cell_type": "code",
   "execution_count": null,
   "metadata": {},
   "outputs": [],
   "source": []
  },
  {
   "cell_type": "code",
   "execution_count": null,
   "metadata": {},
   "outputs": [],
   "source": []
  },
  {
   "cell_type": "code",
   "execution_count": null,
   "metadata": {},
   "outputs": [],
   "source": []
  }
 ],
 "metadata": {
  "kernelspec": {
   "display_name": "Python 3",
   "language": "python",
   "name": "python3"
  },
  "language_info": {
   "codemirror_mode": {
    "name": "ipython",
    "version": 3
   },
   "file_extension": ".py",
   "mimetype": "text/x-python",
   "name": "python",
   "nbconvert_exporter": "python",
   "pygments_lexer": "ipython3",
   "version": "3.7.3"
  }
 },
 "nbformat": 4,
 "nbformat_minor": 2
}
